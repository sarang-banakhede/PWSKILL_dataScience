{
 "cells": [
  {
   "cell_type": "code",
   "execution_count": 1,
   "id": "11e36ddd",
   "metadata": {},
   "outputs": [
    {
     "name": "stdout",
     "output_type": "stream",
     "text": [
      "78718933113238978560\n"
     ]
    }
   ],
   "source": [
    "\"\"\"Q1. Create a function which will take a list as an argument and return the product of all the numbers\n",
    "after creating a flat list.\"\"\"\n",
    "l=[1,2,3,4, [44,55,66, True], False, (34,56,78,89,34), {1,2,3,3,2,1}, {1:34, \"key2\": [55, 67, 78, 89], 4: (45,22, 61, 34)}, [56, 'data science'], 'Machine Learning']\n",
    "p=1\n",
    "for i in l:\n",
    "    if type(i)==list or type(i)==tuple or type(i)==set:\n",
    "        for j in i:\n",
    "            if type(j)==int:\n",
    "                p*=j\n",
    "    elif type(i)==dict:\n",
    "        for j in i:\n",
    "            if type(j)==int:\n",
    "                p*=j\n",
    "            if type(i[j])==int:\n",
    "                p*=i[j]\n",
    "                \n",
    "    elif type(i)==int:\n",
    "        p*=i\n",
    "    else:\n",
    "        continue\n",
    "print(p)        "
   ]
  },
  {
   "cell_type": "code",
   "execution_count": 4,
   "id": "6fa3d48a",
   "metadata": {},
   "outputs": [
    {
     "name": "stdout",
     "output_type": "stream",
     "text": [
      " write sentence : i want to become a data scientist\n",
      "r$dzmg$gl$yvxlnv$z$wzgz$hxrvmgrhg\n"
     ]
    }
   ],
   "source": [
    "\"\"\"Q2. Write a python program for encrypting a message sent to you by your friend. The logic of encryption\n",
    "should be such that, for a the output should be z. For b, the output should be y. For c, the output should\n",
    "be x respectively. Also, the whitespace should be replaced with a dollar sign. Keep the punctuation\n",
    "marks unchanged.\"\"\"\n",
    "l=['a', 'b', 'c', 'd', 'e', 'f', 'g', 'h', 'i', 'j', 'k', 'l', 'm', 'n', 'o', 'p', 'q', 'r', 's', 't', 'u', 'v', 'w', 'x', 'y', 'z']\n",
    "x=list(input(\" write sentence : \"))\n",
    "s=\"\"\n",
    "for i in x:\n",
    "    if(i==\" \"):\n",
    "        s+=\"$\"\n",
    "    else:\n",
    "        s+=l[25-l.index(i)]\n",
    "print(s)        "
   ]
  },
  {
   "cell_type": "code",
   "execution_count": null,
   "id": "4f6d6582",
   "metadata": {},
   "outputs": [],
   "source": []
  },
  {
   "cell_type": "code",
   "execution_count": null,
   "id": "5951c924",
   "metadata": {},
   "outputs": [],
   "source": []
  }
 ],
 "metadata": {
  "kernelspec": {
   "display_name": "Python 3 (ipykernel)",
   "language": "python",
   "name": "python3"
  },
  "language_info": {
   "codemirror_mode": {
    "name": "ipython",
    "version": 3
   },
   "file_extension": ".py",
   "mimetype": "text/x-python",
   "name": "python",
   "nbconvert_exporter": "python",
   "pygments_lexer": "ipython3",
   "version": "3.9.13"
  }
 },
 "nbformat": 4,
 "nbformat_minor": 5
}
