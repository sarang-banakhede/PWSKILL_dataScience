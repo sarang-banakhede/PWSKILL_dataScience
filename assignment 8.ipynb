{
 "cells": [
  {
   "cell_type": "code",
   "execution_count": null,
   "id": "2a7eb9b8",
   "metadata": {},
   "outputs": [],
   "source": [
    "#1. What is Abstraction in OOps? Explain with an example.\n",
    "\"\"\"Abstraction in object-oriented programming (OOP) refers to the practice of hiding complex implementation details of a class and exposing only the relevant information to the user. Abstraction helps in reducing the complexity of the code and makes it easier to maintain and understand. It allows the user to interact with an object without needing to know how it is implemented internally.\n",
    "One common example of abstraction is a car. When you drive a car, you don't need to know how the engine works or how the fuel is burned. All you need to know is how to use the accelerator, brake, and steering wheel. In other words, the car's internal workings are abstracted away from the driver.\n",
    "Similarly, in OOP, we can create classes that abstract away their implementation details, exposing only the relevant information to the user. For example, consider a bank account class. The user of the class only needs to know how to deposit and withdraw money, and check the balance. The implementation details of how the account is managed are hidden from the user, making it easier to use and maintain the class.\"\"\"\n",
    "\n",
    "#2. Differentiate between Abstraction and Encapsulation. Explain with an example.\n",
    "\"\"\"Abstraction is the process of hiding complex implementation details of a class and exposing only the relevant information to the user. It helps in reducing complexity and making the code easier to maintain and understand. On the other hand, Encapsulation is the practice of protecting the data and behavior of an object and preventing direct access to them from outside the object.\n",
    "Let's explain the difference between Abstraction and Encapsulation using an example:\n",
    "Consider a car. The car is an object that encapsulates various components such as the engine, brakes, and steering wheel. These components are hidden from the user, and the user only interacts with the car through a set of abstracted controls such as the accelerator, brake, and steering wheel. The user doesn't need to know how the engine works or how the brakes are applied; they only need to know how to use the controls to drive the car.\n",
    "In this example, Encapsulation is the process of hiding the internal components of the car from the user, preventing direct access to them from outside the car. Abstraction, on the other hand, is the process of providing a simplified interface (the controls) to the user, which abstracts away the complexity of the car's internal workings.\n",
    "In summary, Encapsulation and Abstraction are complementary concepts in OOP, with Encapsulation focusing on protecting data and behavior, and Abstraction focusing on simplifying the interface between the user and the object.\"\"\"\n",
    "\n",
    "#3. What is abc module in python? Why is it used?\n",
    "\"\"\"The abc module in Python stands for Abstract Base Classes. It is used to define abstract base classes, which are classes that are meant to be inherited from, but not instantiated. Abstract base classes serve as a blueprint for concrete classes, and they provide a way to define a set of methods that must be implemented in any concrete class that inherits from them.\n",
    "The abc module provides a set of tools for defining and working with abstract base classes. The most important class in this module is the ABC class, which is the base class for all abstract base classes. To define an abstract base class, you need to subclass ABC and use the @abstractmethod decorator to mark any method that needs to be implemented in the concrete class.\"\"\"\n",
    "\n",
    "#4. How can we achieve data abstraction?\n",
    "\"\"\"Here are some ways to achieve data abstraction in Python:\n",
    "Encapsulation: Encapsulation is the practice of hiding the internal details of a class from the user, and providing a public interface for accessing the class's properties and methods. This can be achieved by defining private variables and methods using the double underscore (__) prefix. For example:\"\n",
    "\"\"\"\n",
    "#5. Can we create an instance of an abstract class? Explain your answer.\n",
    "\"\"\"No, we cannot create an instance of an abstract class in Python. An abstract class is a class that is meant to be inherited from, but not instantiated directly. The purpose of an abstract class is to provide a blueprint for concrete classes to implement, by defining a set of methods that must be implemented in any concrete class that inherits from it.\n",
    "In Python, we can create an abstract class using the abc module and the ABC class. The ABC class is a special class that is used as a base class for abstract classes. We can mark a method as abstract by using the @abstractmethod decorator, which means that any concrete class that inherits from the abstract class must implement this method.\"\"\"\n"
   ]
  }
 ],
 "metadata": {
  "kernelspec": {
   "display_name": "Python 3 (ipykernel)",
   "language": "python",
   "name": "python3"
  },
  "language_info": {
   "codemirror_mode": {
    "name": "ipython",
    "version": 3
   },
   "file_extension": ".py",
   "mimetype": "text/x-python",
   "name": "python",
   "nbconvert_exporter": "python",
   "pygments_lexer": "ipython3",
   "version": "3.9.13"
  }
 },
 "nbformat": 4,
 "nbformat_minor": 5
}
