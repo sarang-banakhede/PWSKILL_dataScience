{
 "cells": [
  {
   "cell_type": "markdown",
   "id": "ac19ac16-e919-4e6d-8322-0c24d9ae6f3b",
   "metadata": {},
   "source": [
    "Question 1:\n",
    "\n",
    "In Python, an exception is an event that interrupts the normal flow of a program's execution. When an exception occurs, it typically means that the program has encountered an error or an unexpected condition that it cannot handle.\n",
    "\n",
    "When an exception occurs, Python creates an object representing the exception, which contains information about the error, such as its type and the location in the code where it occurred. This object is then passed up the call stack until it is handled by an appropriate exception handler.\n",
    "\n",
    "Python has a built-in mechanism for handling exceptions, using the try...except statement. Code that might raise an exception is placed in a try block, and any code that should be executed in response to the exception is placed in an except block. When an exception occurs in the try block, Python will jump to the except block and execute the code there, rather than raising an error and stopping the program.\n",
    "\n",
    "In Python, both exceptions and syntax errors are types of errors that can occur in a program, but they differ in their causes and how they are handled.\n",
    "\n",
    "A syntax error occurs when there is a mistake in the syntax of the code, such as a missing bracket, a misspelled keyword, or an incorrect indentation. These errors are detected by the Python interpreter during the compilation phase, before the program is run. When a syntax error occurs, Python will display a message indicating the location of the error and the type of syntax error that occurred, and the program will not run until the error is fixed. \n",
    "example:\n",
    "print(\"Hello, world!\"\n",
    "\n",
    "On the other hand, an exception is an error that occurs while the program is running, when a statement or function encounters an unexpected condition or situation. These conditions can be caused by many factors, such as invalid input, network failures, file errors, or memory problems. When an exception occurs, Python will create an exception object and raise it, causing the program to stop unless the exception is handled by an appropriate exception handler\n",
    "example:\n",
    "x = 5\n",
    "y = 0\n",
    "z = x / y"
   ]
  },
  {
   "cell_type": "markdown",
   "id": "321dac61-f79d-4e36-9830-c253d9258322",
   "metadata": {},
   "source": [
    "Question 2:\n",
    "\n",
    "When an exception is not handled in a Python program, it will cause the program to terminate abruptly and display an error message that includes information about the exception, such as the type of the exception, the line of code where it occurred, and a traceback of the call stack.\n",
    "\n",
    "example:\n",
    "def divide(x, y):\n",
    "    return x / y\n",
    "\n",
    "print(divide(5, 0))\n",
    "\n",
    "\n",
    "Traceback (most recent call last):\n",
    "  File \"test.py\", line 4, in <module>\n",
    "    print(divide(5, 0))\n",
    "  File \"test.py\", line 2, in divide\n",
    "    return x / y\n",
    "ZeroDivisionError: division by zero"
   ]
  },
  {
   "cell_type": "markdown",
   "id": "024db95c-c289-4540-b5f7-34ac1eb18b7e",
   "metadata": {},
   "source": [
    "Question 3:\n",
    "\n",
    "In Python, the try...except statement is used to catch exceptions that might occur in our code. The try block contains the code that might raise an exception, and the except block contains the code that should be executed if an exception is raised.\n",
    "\n",
    "try:\n",
    "    x = int(input(\"Enter a number: \"))\n",
    "    y = int(input(\"Enter another number: \"))\n",
    "    result = x / y\n",
    "    print(f\"{x} divided by {y} is {result}\")\n",
    "except ValueError:\n",
    "    print(\"Invalid input\")\n",
    "except ZeroDivisionError:\n",
    "    print(\"Division by zero\")"
   ]
  },
  {
   "cell_type": "markdown",
   "id": "a18ead03-8356-4f27-955c-341832132f6c",
   "metadata": {},
   "source": [
    "Question 4:\n",
    "\n",
    "In Python, we can use the try...except block to catch and handle exceptions that might occur in our code. Additionally, we can use the else and finally clauses to specify code that should be executed in response to the try block succeeding or regardless of whether an exception was raised or caught.\n",
    "\n",
    "Here is an example of how to use try, else, and finally clauses in Python:\n",
    "try:\n",
    "    x = int(input(\"Enter a number: \"))\n",
    "    y = int(input(\"Enter another number: \"))\n",
    "    result = x / y\n",
    "except ValueError:\n",
    "    print(\"Invalid input\")\n",
    "except ZeroDivisionError:\n",
    "    print(\"Division by zero\")\n",
    "else:\n",
    "    print(f\"{x} divided by {y} is {result}\")\n",
    "finally:\n",
    "    print(\"Done\")\n",
    "    "
   ]
  },
  {
   "cell_type": "markdown",
   "id": "27b841bf-f0ff-4aed-a3a2-dd283dc00b9e",
   "metadata": {},
   "source": [
    "Question 5:\n",
    "\n",
    "In Python, we can define custom exceptions by creating a new class that inherits from the built-in Exception class or one of its subclasses. Custom exceptions are used to provide more specific error handling in our code, to create our own error types for our application or library, and to make our code more readable and maintainable.\n",
    "\n",
    "class NotEnoughBalanceError(Exception):\n",
    "    pass\n",
    "\n",
    "class BankAccount:\n",
    "    def __init__(self, balance):\n",
    "        self.balance = balance\n",
    "\n",
    "    def withdraw(self, amount):\n",
    "        if amount > self.balance:\n",
    "            raise NotEnoughBalanceError(\"Insufficient balance\")\n",
    "        self.balance -= amount\n",
    "\n",
    "account = BankAccount(1000)\n",
    "\n",
    "try:\n",
    "    account.withdraw(1500)\n",
    "except NotEnoughBalanceError as e:\n",
    "    print(e)\n",
    "    \n",
    "    "
   ]
  },
  {
   "cell_type": "code",
   "execution_count": 3,
   "id": "897692de-ad74-4ec3-a208-f8449d983fd5",
   "metadata": {},
   "outputs": [
    {
     "name": "stdout",
     "output_type": "stream",
     "text": [
      "insufficient balance\n"
     ]
    }
   ],
   "source": [
    "class insufficient_error(Exception):\n",
    "    pass\n",
    "class bank_account:\n",
    "    def __init__(self,amount):\n",
    "        self.balance=amount\n",
    "    def withdrawl(self,amount):\n",
    "        if amount>self.balance:\n",
    "            raise insufficient_error(\"insufficient balance\")\n",
    "        else:\n",
    "            self.balance-=amount\n",
    "            \n",
    "account=bank_account(1000)\n",
    "try:\n",
    "    account.withdrawl(5000)\n",
    "except insufficient_error as e:\n",
    "    print(e)\n"
   ]
  },
  {
   "cell_type": "code",
   "execution_count": null,
   "id": "73a02b26-1de2-4084-8301-147c6a827353",
   "metadata": {},
   "outputs": [],
   "source": []
  }
 ],
 "metadata": {
  "kernelspec": {
   "display_name": "Python 3 (ipykernel)",
   "language": "python",
   "name": "python3"
  },
  "language_info": {
   "codemirror_mode": {
    "name": "ipython",
    "version": 3
   },
   "file_extension": ".py",
   "mimetype": "text/x-python",
   "name": "python",
   "nbconvert_exporter": "python",
   "pygments_lexer": "ipython3",
   "version": "3.10.8"
  }
 },
 "nbformat": 4,
 "nbformat_minor": 5
}
