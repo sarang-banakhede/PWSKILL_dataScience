{
 "cells": [
  {
   "cell_type": "code",
   "execution_count": 1,
   "id": "1c700636",
   "metadata": {},
   "outputs": [
    {
     "name": "stdout",
     "output_type": "stream",
     "text": [
      "0 1 2 3 4 5 6 7 8 9 \n",
      "0 1 2 3 4 5 6 7 8 9 "
     ]
    }
   ],
   "source": [
    "#Q1. Explain with an example each when to use a for loop and a while loop.\n",
    "for i in range(10):\n",
    "    print(i,end=\" \")\n",
    "print()    \n",
    "i=0\n",
    "while i<10:\n",
    "    print(i,end=\" \")\n",
    "    i=i+1"
   ]
  },
  {
   "cell_type": "code",
   "execution_count": 2,
   "id": "c6ec3eb0",
   "metadata": {},
   "outputs": [
    {
     "name": "stdout",
     "output_type": "stream",
     "text": [
      "sum is :  55\n",
      "product is :  56\n"
     ]
    }
   ],
   "source": [
    "\"\"\"Q2. Write a python program to print the sum and product of the first 10 natural numbers using for and while loop.\"\"\"\n",
    "i=1\n",
    "sum=0\n",
    "product=1\n",
    "while i<=10:\n",
    "    sum=sum+i\n",
    "    product=product+i\n",
    "    i=i+1\n",
    "print(\"sum is : \",sum)\n",
    "print(\"product is : \",product)\n",
    "    "
   ]
  },
  {
   "cell_type": "code",
   "execution_count": 3,
   "id": "9c5f4770",
   "metadata": {},
   "outputs": [
    {
     "name": "stdout",
     "output_type": "stream",
     "text": [
      "write the unit consuption310\n",
      "bill is : 2250.0\n"
     ]
    }
   ],
   "source": [
    "\"\"\"Q3. Create a python program to compute the electricity bill for a household.The per-unit charges in rupees are as follows: For the first 100 units, the user will be charged Rs. 4.5 per\n",
    "unit, for the next 100 units, the user will be charged Rs. 6 per unit, and for the next 100 units, the user will\n",
    "be charged Rs. 10 per unit, After 300 units and above the user will be charged Rs. 20 per unit. You are required to take\n",
    "the units of electricity consumed in a month from the user as input.Your program must pass this test case: when the unit \n",
    "of electricity consumed by the user in a month is 310, the total electricity bill should be 2250.\"\"\"\n",
    "x=int(input(\"write the unit consuption\"))\n",
    "if x>300:\n",
    "    a=x-300\n",
    "    print(\"bill is :\",4.5*100+6*100+10*100+a*20)\n",
    "elif x>200:\n",
    "    a=x-200\n",
    "    print(\"bill is :\",4.5*100+6*100+a*10)\n",
    "elif x>100:\n",
    "    a=x-100\n",
    "    print(\"bill is :\",4.5*100+a*6)    \n",
    "else:\n",
    "    print(\"bill is :\",4.5*x)  \n",
    "    "
   ]
  },
  {
   "cell_type": "code",
   "execution_count": 2,
   "id": "51c64f53",
   "metadata": {},
   "outputs": [
    {
     "name": "stdout",
     "output_type": "stream",
     "text": [
      "[2, 4, 5, 6, 8, 10, 12, 14, 15, 16, 18, 20, 22, 24, 25, 26, 28, 30, 32, 34, 35, 36, 38, 40, 42, 44, 45, 46, 48, 50, 52, 54, 55, 56, 58, 60, 62, 64, 65, 66, 68, 70, 72, 74, 75, 76, 78, 80, 82, 84, 85, 86, 88, 90, 92, 94, 95, 96, 98, 100]\n"
     ]
    }
   ],
   "source": [
    "\"\"\"Q4. Create a list of numbers from 1 to 100. Use for loop and while loop to calculate the cube of each number and \n",
    "if the cube of that number is divisible by 4 or 5 then append that number in a list and print that list.\"\"\"\n",
    "l=[i for i in range(1,101)]\n",
    "l1=[]\n",
    "for i in l:\n",
    "    if (i**3)%4==0 or (i**3)%5==0:\n",
    "        l1.append(i)\n",
    "print(l1)        "
   ]
  },
  {
   "cell_type": "code",
   "execution_count": 4,
   "id": "5b63910a",
   "metadata": {},
   "outputs": [
    {
     "name": "stdout",
     "output_type": "stream",
     "text": [
      "number of vovels are  11\n"
     ]
    }
   ],
   "source": [
    "\"\"\"Q5. Write a program to filter count vowels in the below-given string.string = \"I want to become a data scientist\"\"\"\n",
    "string = \"I want to become a data scientist\"\n",
    "l=['a','e','i','o','u']\n",
    "count=0\n",
    "for i in string:\n",
    "    for j in l:\n",
    "        if i==j:\n",
    "            count+=1\n",
    "print(\"number of vovels are \",count)            \n"
   ]
  },
  {
   "cell_type": "code",
   "execution_count": null,
   "id": "254913e4",
   "metadata": {},
   "outputs": [],
   "source": []
  }
 ],
 "metadata": {
  "kernelspec": {
   "display_name": "Python 3 (ipykernel)",
   "language": "python",
   "name": "python3"
  },
  "language_info": {
   "codemirror_mode": {
    "name": "ipython",
    "version": 3
   },
   "file_extension": ".py",
   "mimetype": "text/x-python",
   "name": "python",
   "nbconvert_exporter": "python",
   "pygments_lexer": "ipython3",
   "version": "3.9.13"
  }
 },
 "nbformat": 4,
 "nbformat_minor": 5
}
