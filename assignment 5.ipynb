{
 "cells": [
  {
   "cell_type": "code",
   "execution_count": 1,
   "id": "f93c9d82",
   "metadata": {},
   "outputs": [
    {
     "name": "stdout",
     "output_type": "stream",
     "text": [
      "write percentage : 74\n",
      "C\n"
     ]
    }
   ],
   "source": [
    "#Q1.Write a program to accept percentage from user and display the grade accourding to the following crietarea:\n",
    "x=int(input(\"write percentage : \"))\n",
    "if(x>90):\n",
    "    print(\"A\")\n",
    "elif(x>80 and x<=90):\n",
    "    print(\"B\")\n",
    "elif(x>=60 and x<=80):\n",
    "    print(\"C\")\n",
    "else:\n",
    "    print(\"D\")"
   ]
  },
  {
   "cell_type": "code",
   "execution_count": 1,
   "id": "c9f7ea7e",
   "metadata": {},
   "outputs": [
    {
     "name": "stdout",
     "output_type": "stream",
     "text": [
      "write the cost : 68000\n",
      "tax :  6800.0\n"
     ]
    }
   ],
   "source": [
    "#Q2 wire a program to accept the cost price of a bike and display the road tax to be paid according to th following crieteria:\n",
    "x=int(input(\"write the cost : \"))\n",
    "if(x>100000):\n",
    "    print(\"tax : \", 0.15*x)\n",
    "elif(x>50000 and x<=100000):\n",
    "    print(\"tax : \",0.1*x)\n",
    "else:\n",
    "    print(\"tax : \",0.05*x)\n",
    "    "
   ]
  },
  {
   "cell_type": "code",
   "execution_count": 2,
   "id": "1ded0331",
   "metadata": {},
   "outputs": [
    {
     "name": "stdout",
     "output_type": "stream",
     "text": [
      "write the city : Delhi\n",
      "Red Fort\n"
     ]
    }
   ],
   "source": [
    "#Q3 accept city from the user and display monuments of that city\n",
    "x=input(\"write the city : \")\n",
    "if(x==\"Delhi\"):\n",
    "    print(\"Red Fort\")\n",
    "elif(\"Agra\"):\n",
    "    print(\"Taj Mahal\")\n",
    "else:\n",
    "    print(\"Jal Mahal\")"
   ]
  },
  {
   "cell_type": "code",
   "execution_count": 8,
   "id": "d181c1ff",
   "metadata": {
    "scrolled": true
   },
   "outputs": [
    {
     "name": "stdout",
     "output_type": "stream",
     "text": [
      "write the number : 99\n",
      "2\n"
     ]
    }
   ],
   "source": [
    "#Q4 check how many time a given number can devided by 3 before it is less than or equal to 10\n",
    "x=int(input(\"write the number : \"))\n",
    "count=0\n",
    "while(x>10 and x%3==0):\n",
    "    x/=3  \n",
    "    count+=1\n",
    "print(count)    "
   ]
  },
  {
   "cell_type": "code",
   "execution_count": null,
   "id": "d490c3c3",
   "metadata": {},
   "outputs": [],
   "source": [
    "#Q5 why and when to use while loop in python give a detailed description with example\n",
    "\"\"\"With the while loop we can execute a set of statements as long as a condition is true.\"\"\""
   ]
  },
  {
   "cell_type": "code",
   "execution_count": 1,
   "id": "daa3d6b7",
   "metadata": {},
   "outputs": [
    {
     "name": "stdout",
     "output_type": "stream",
     "text": [
      "* * * * * \n",
      "* * * * * \n",
      "* * * * * \n",
      "* * * * * \n",
      "* * * * * \n",
      "\n",
      "* * * * * \n",
      "* * * * \n",
      "* * * \n",
      "* * \n",
      "* \n"
     ]
    }
   ],
   "source": [
    "#Q6 use nested while loop to print 2 different pattern\n",
    "i=0\n",
    "while(i<5):\n",
    "    j=0\n",
    "    i+=1\n",
    "    while(j<5):\n",
    "        print(\"*\",end=\" \")\n",
    "        j+=1\n",
    "    print()\n",
    "print()\n",
    "i=0\n",
    "j=5\n",
    "while(i<5):\n",
    "    i+=1\n",
    "    k=j\n",
    "    while(k>0):\n",
    "        print(\"*\",end=\" \")\n",
    "        k-=1\n",
    "    j-=1\n",
    "    print()"
   ]
  },
  {
   "cell_type": "code",
   "execution_count": 2,
   "id": "faa8c771",
   "metadata": {},
   "outputs": [
    {
     "name": "stdout",
     "output_type": "stream",
     "text": [
      "10\n",
      "9\n",
      "8\n",
      "7\n",
      "6\n",
      "5\n",
      "4\n",
      "3\n",
      "2\n",
      "1\n"
     ]
    }
   ],
   "source": [
    "#Q7 reverse a while loop to display number from 10 to 1\n",
    "i=10\n",
    "while(i>0):\n",
    "    print(i)\n",
    "    i-=1"
   ]
  },
  {
   "cell_type": "code",
   "execution_count": null,
   "id": "4333c0d2",
   "metadata": {},
   "outputs": [],
   "source": []
  }
 ],
 "metadata": {
  "kernelspec": {
   "display_name": "Python 3 (ipykernel)",
   "language": "python",
   "name": "python3"
  },
  "language_info": {
   "codemirror_mode": {
    "name": "ipython",
    "version": 3
   },
   "file_extension": ".py",
   "mimetype": "text/x-python",
   "name": "python",
   "nbconvert_exporter": "python",
   "pygments_lexer": "ipython3",
   "version": "3.9.13"
  }
 },
 "nbformat": 4,
 "nbformat_minor": 5
}
