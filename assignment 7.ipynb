{
 "cells": [
  {
   "cell_type": "code",
   "execution_count": 8,
   "id": "b0c96168",
   "metadata": {},
   "outputs": [
    {
     "name": "stdout",
     "output_type": "stream",
     "text": [
      "valid password\n",
      "invalid password\n"
     ]
    }
   ],
   "source": [
    "\"\"\"Q1. You are writing code for a company. The requirement of the company is that you create a python\n",
    "function that will check whether the password entered by the user is correct or not. The function should\n",
    "take the password as input and return the string “Valid Password” if the entered password follows the\n",
    "below-given password guidelines else it should return “Invalid Password”.\n",
    "Note: 1. The Password should contain at least two uppercase letters and at least two lowercase letters.\n",
    "2. The Password should contain at least a number and three special characters.\n",
    "3. The length of the password should be 10 characters long.\"\"\"\n",
    "\n",
    "def password(a):\n",
    "    lower=['a', 'b', 'c', 'd', 'e', 'f', 'g', 'h', 'i', 'j', 'k', 'l', 'm', 'n', 'o', 'p', 'q', 'r', 's', 't', 'u', 'v', 'w', 'x', 'y', 'z']\n",
    "    upper=['A', 'B', 'C', 'D', 'E', 'F', 'G', 'H', 'I', 'J', 'K', 'L', 'M', 'N', 'O', 'P', 'Q', 'R', 'S', 'T', 'U', 'V', 'W', 'X', 'Y', 'Z']\n",
    "    num=['0', '1', '2', '3', '4', '5', '6', '7', '8', '9']\n",
    "    special=[\"@\",\"$\",\"#\",\"&\",\"%\"]\n",
    "    lower_count=0\n",
    "    upper_count=0\n",
    "    special_count=0\n",
    "    num_count=0\n",
    "    if len(a)<10:\n",
    "        return \"invalid password\"\n",
    "    else:\n",
    "        for i in a:\n",
    "            if i in num:\n",
    "                num_count+=1\n",
    "            elif i in special:\n",
    "                special_count+=1\n",
    "            elif i in upper:\n",
    "                upper_count+=1\n",
    "            else:\n",
    "                lower_count+=1\n",
    "        if lower_count>=2 and upper_count>=2 and special_count>=3 and num_count>=1:\n",
    "            return \"valid password\"\n",
    "        else:\n",
    "            return \"invalid password\"\n",
    "print(password(\"SSb01bd#%$\"))\n",
    "print(password(\"123abcS#$jk\"))\n",
    "        \n",
    "        \n",
    "    "
   ]
  },
  {
   "cell_type": "code",
   "execution_count": 24,
   "id": "016e1be4",
   "metadata": {},
   "outputs": [
    {
     "name": "stdout",
     "output_type": "stream",
     "text": [
      "xfgfh\n",
      "[True]\n",
      "True\n",
      "[('orange', 80), ('mango', 99), ('grapes', 1000)]\n",
      "[1, 4, 9, 16, 25, 36, 49, 64, 81, 100]\n",
      "[1, 8, 27, 64, 125, 216, 343, 512, 729, 1000]\n",
      "NUMBER : 58\n",
      "even\n",
      "[1, 2, 3, 4, 5, 6, 7, 8, 9, 10]\n",
      "[-5, -4, -3, -2, -1] [0, 1, 2, 3, 4, 5, 6] "
     ]
    }
   ],
   "source": [
    "\"\"\"Q2. Solve the below-given questions using at least one of the following:\n",
    "1. Lambda function\n",
    "2. Filter function\n",
    "3. Zap function\n",
    "4. List Comprehension\"\"\"\n",
    "#----------------------------------------------------\n",
    "#Check if the string starts with a particular letterY\n",
    "s=[True if input()[0]==\"x\" else False]\n",
    "print(s)\n",
    "#----------------------------------------------------\n",
    "#Check if the string is numeric\n",
    "s=lambda a: a.isnumeric()\n",
    "print(s(\"45612\"))\n",
    "#----------------------------------------------------\n",
    "#Sort a list of tuples having fruit names and their quantity.\n",
    "l=[(\"mango\",99),(\"orange\",80), (\"grapes\", 1000)]\n",
    "l.sort(key=lambda x:x[1])\n",
    "print(l)\n",
    "#----------------------------------------------------\n",
    "#Find the squares of numbers from 1 to 10\n",
    "l=[i**2 for i in range(1,11)]\n",
    "print(l)\n",
    "#----------------------------------------------------\n",
    "#Find the cube root of numbers from 1 to 10\n",
    "l=[i**3 for i in range(1,11)]\n",
    "print(l)\n",
    "#----------------------------------------------------\n",
    "#Check if a given number is even\n",
    "print(\"even\" if int(input(\"NUMBER : \"))%2==0 else \"odd\")\n",
    "#----------------------------------------------------\n",
    "#Filter odd numbers from the given list\n",
    "l=list(range(1,11))\n",
    "x=list(filter(lambda x:x%2!=2,l))\n",
    "print(x)\n",
    "#----------------------------------------------------\n",
    "#Sort a list of integers into positive and negative integers lists\n",
    "l=[1,2,3,4,5,6,-1,-2,-3,-4,-5,0]\n",
    "positive=[i for i in l if i>=0]\n",
    "negative=[i for i in l if i<0]\n",
    "positive.sort()\n",
    "negative.sort()\n",
    "print(negative,end=\" \")\n",
    "print(positive,end=\" \")\n",
    "#----------------------------------------------------"
   ]
  },
  {
   "cell_type": "code",
   "execution_count": null,
   "id": "d51f08fd",
   "metadata": {},
   "outputs": [],
   "source": []
  }
 ],
 "metadata": {
  "kernelspec": {
   "display_name": "Python 3 (ipykernel)",
   "language": "python",
   "name": "python3"
  },
  "language_info": {
   "codemirror_mode": {
    "name": "ipython",
    "version": 3
   },
   "file_extension": ".py",
   "mimetype": "text/x-python",
   "name": "python",
   "nbconvert_exporter": "python",
   "pygments_lexer": "ipython3",
   "version": "3.9.13"
  }
 },
 "nbformat": 4,
 "nbformat_minor": 5
}
