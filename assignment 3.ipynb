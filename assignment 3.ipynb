{
 "cells": [
  {
   "cell_type": "code",
   "execution_count": 1,
   "id": "6642d3e2",
   "metadata": {},
   "outputs": [
    {
     "name": "stdout",
     "output_type": "stream",
     "text": [
      "[1, 3, 5, 7, 9, 11, 13, 15, 17, 19, 21, 23, 25]\n"
     ]
    }
   ],
   "source": [
    "\"\"\"Q1. Which keyword is used to create a function? Create a function to return a list of odd numbers in the\n",
    "range of 1 to 25.\"\"\"\n",
    "def odd():\n",
    "    return [i for i in range(1,26) if i%2!=0]\n",
    "print(odd())"
   ]
  },
  {
   "cell_type": "code",
   "execution_count": 8,
   "id": "84b774bd",
   "metadata": {},
   "outputs": [
    {
     "name": "stdout",
     "output_type": "stream",
     "text": [
      "*arg take list/tuple as input\n",
      "**kwarg take dictionary as input\n",
      "[1, 2, 3, 4, 5, 6, 7, 8, 9] {1: 'a', 2: 'b', 3: 'c', 4: 'd', 5: 'd'} "
     ]
    }
   ],
   "source": [
    "\"\"\"Q2. Why *args and **kwargs is used in some functions? Create a function each for *args and **kwargs\n",
    "to demonstrate their use.\"\"\"\n",
    "def demo(*arg,**kwarg):\n",
    "    print(\"*arg take list/tuple as input\")\n",
    "    print(\"**kwarg take dictionary as input\")\n",
    "    for i in arg:\n",
    "        print(i,end=\" \")  \n",
    "    for key,value in kwarg:\n",
    "        print(key,value)\n",
    "l=[1,2,3,4,5,6,7,8,9]\n",
    "d={1:\"a\",2:\"b\",3:\"c\",4:\"d\",5:\"d\"}\n",
    "demo(l,d)"
   ]
  },
  {
   "cell_type": "code",
   "execution_count": 9,
   "id": "10066ba7",
   "metadata": {},
   "outputs": [
    {
     "name": "stdout",
     "output_type": "stream",
     "text": [
      "2\n",
      "4\n",
      "6\n",
      "8\n",
      "10\n"
     ]
    }
   ],
   "source": [
    "\"\"\"Q3. What is an iterator in python? Name the method used to initialise the iterator object and the method\n",
    "used for iteration. Use these methods to print the first five elements of the given list [2, 4, 6, 8, 10, 12, 14,\n",
    "16, 18, 20].\"\"\"\n",
    "l=[2, 4, 6, 8, 10, 12, 14, 16, 18, 20]\n",
    "T=iter(l)\n",
    "print(next(T))\n",
    "print(next(T))\n",
    "print(next(T))\n",
    "print(next(T))\n",
    "print(next(T))"
   ]
  },
  {
   "cell_type": "code",
   "execution_count": 16,
   "id": "0917dc67",
   "metadata": {},
   "outputs": [
    {
     "name": "stdout",
     "output_type": "stream",
     "text": [
      "0\n",
      "1\n",
      "2\n",
      "3\n",
      "4\n"
     ]
    }
   ],
   "source": [
    "\"\"\"Q4. What is a generator function in python? Why yield keyword is used? Give an example of a generator function.\"\"\"\n",
    "def xyz(n):\n",
    "    for i in range(n):\n",
    "        yield(i)\n",
    "t=xyz(5)\n",
    "print(next(t))\n",
    "print(next(t))\n",
    "print(next(t))\n",
    "print(next(t))\n",
    "print(next(t))"
   ]
  },
  {
   "cell_type": "code",
   "execution_count": 18,
   "id": "c6728adb",
   "metadata": {
    "scrolled": true
   },
   "outputs": [
    {
     "name": "stdout",
     "output_type": "stream",
     "text": [
      "0\n",
      "1\n",
      "2\n",
      "3\n",
      "5\n",
      "7\n",
      "11\n",
      "13\n",
      "17\n",
      "19\n",
      "23\n",
      "29\n",
      "31\n",
      "37\n",
      "41\n",
      "43\n",
      "47\n",
      "53\n",
      "59\n",
      "61\n"
     ]
    }
   ],
   "source": [
    "\"\"\"Q5. Create a generator function for prime numbers less than 1000. Use the next() method to print the first 20 prime numbers.\"\"\"\n",
    "def isprime(n):\n",
    "    for i in range(2,n):\n",
    "        if n%i==0:\n",
    "            return False\n",
    "    return True    \n",
    "def prime():\n",
    "    for i in range(1000):\n",
    "        if isprime(i):\n",
    "            yield(i)\n",
    "t=prime()\n",
    "for i in range(20):\n",
    "    print(next(t))"
   ]
  },
  {
   "cell_type": "code",
   "execution_count": 20,
   "id": "cfb639ec",
   "metadata": {},
   "outputs": [
    {
     "name": "stdout",
     "output_type": "stream",
     "text": [
      "0\n",
      "1\n",
      "1\n",
      "2\n",
      "3\n",
      "5\n",
      "8\n",
      "13\n",
      "21\n",
      "34\n"
     ]
    }
   ],
   "source": [
    "\"\"\"Q6. Write a python program to print the first 10 Fibonacci numbers using a while loop.\"\"\"\n",
    "def fibonacci(n):\n",
    "    a,b=0,1\n",
    "    i=0\n",
    "    while(i<n):\n",
    "        i+=1\n",
    "        print(a)\n",
    "        a,b=b,a+b\n",
    "fibonacci(10)        "
   ]
  },
  {
   "cell_type": "code",
   "execution_count": 21,
   "id": "56e8ea04",
   "metadata": {},
   "outputs": [
    {
     "name": "stdout",
     "output_type": "stream",
     "text": [
      "['p', 'w', 's', 'k', 'i', 'l', 'l', 's']\n"
     ]
    }
   ],
   "source": [
    "\"\"\"Q7. Write a List Comprehension to iterate through the given string: ‘pwskills’.\n",
    "Expected output: ['p', 'w', 's', 'k', 'i', 'l', 'l', 's']\"\"\"\n",
    "string=\"pwskills\"\n",
    "l=[i for i in string]\n",
    "print(l)"
   ]
  },
  {
   "cell_type": "code",
   "execution_count": 3,
   "id": "60919725",
   "metadata": {},
   "outputs": [
    {
     "name": "stdout",
     "output_type": "stream",
     "text": [
      "write the number12345654321\n",
      "it is palindrome\n"
     ]
    }
   ],
   "source": [
    "\"\"\"Q8. Write a python program to check whether a given number is Palindrome or not using a while loop.\"\"\"\n",
    "def palindrome(n):\n",
    "    a,b=0,len(x)-1\n",
    "    while(a<=b):\n",
    "        if x[a]!=x[b]:\n",
    "            return False\n",
    "        else:\n",
    "            a=a+1\n",
    "            b=b-1\n",
    "    return True\n",
    "x=input(\"write the number\")\n",
    "print(\"it is palindrome\" if palindrome(x) else \"not palindrome\")\n",
    "    "
   ]
  },
  {
   "cell_type": "code",
   "execution_count": 5,
   "id": "78aac662",
   "metadata": {},
   "outputs": [
    {
     "name": "stdout",
     "output_type": "stream",
     "text": [
      "[1, 3, 5, 7, 9, 11, 13, 15, 17, 19, 21, 23, 25, 27, 29, 31, 33, 35, 37, 39, 41, 43, 45, 47, 49, 51, 53, 55, 57, 59, 61, 63, 65, 67, 69, 71, 73, 75, 77, 79, 81, 83, 85, 87, 89, 91, 93, 95, 97, 99]\n"
     ]
    }
   ],
   "source": [
    "\"\"\"Q9. Write a code to print odd numbers from 1 to 100 using list comprehension.\n",
    "Note: Use a list comprehension to create a list from 1 to 100 and use another List comprehension to filter\n",
    "out odd numbers.\"\"\"\n",
    "l=list(range(1,101))\n",
    "odd=[i for i in l if i%2!=0]\n",
    "print(odd)"
   ]
  },
  {
   "cell_type": "code",
   "execution_count": null,
   "id": "2ec877d0",
   "metadata": {},
   "outputs": [],
   "source": []
  }
 ],
 "metadata": {
  "kernelspec": {
   "display_name": "Python 3 (ipykernel)",
   "language": "python",
   "name": "python3"
  },
  "language_info": {
   "codemirror_mode": {
    "name": "ipython",
    "version": 3
   },
   "file_extension": ".py",
   "mimetype": "text/x-python",
   "name": "python",
   "nbconvert_exporter": "python",
   "pygments_lexer": "ipython3",
   "version": "3.9.13"
  }
 },
 "nbformat": 4,
 "nbformat_minor": 5
}
